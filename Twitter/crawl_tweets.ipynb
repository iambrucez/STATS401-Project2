{
 "cells": [
  {
   "cell_type": "code",
   "metadata": {
    "tags": [],
    "cell_id": "eedd4fba-cb2f-4151-badc-8c2b306673fc",
    "deepnote_to_be_reexecuted": false,
    "source_hash": "d8d66a33",
    "execution_start": 1651883789415,
    "execution_millis": 5864,
    "deepnote_cell_type": "code",
    "deepnote_cell_height": 356.25
   },
   "source": "# install snscrape using pip\n!pip3 install snscrape",
   "execution_count": 1,
   "outputs": [
    {
     "name": "stdout",
     "text": "Collecting snscrape\n  Downloading snscrape-0.3.4-py3-none-any.whl (35 kB)\nRequirement already satisfied: lxml in /shared-libs/python3.7/py/lib/python3.7/site-packages (from snscrape) (4.8.0)\nRequirement already satisfied: beautifulsoup4 in /shared-libs/python3.7/py/lib/python3.7/site-packages (from snscrape) (4.11.1)\nRequirement already satisfied: requests[socks] in /shared-libs/python3.7/py/lib/python3.7/site-packages (from snscrape) (2.27.1)\nRequirement already satisfied: soupsieve>1.2 in /shared-libs/python3.7/py/lib/python3.7/site-packages (from beautifulsoup4->snscrape) (2.3.2.post1)\nRequirement already satisfied: idna<4,>=2.5; python_version >= \"3\" in /shared-libs/python3.7/py-core/lib/python3.7/site-packages (from requests[socks]->snscrape) (3.3)\nRequirement already satisfied: urllib3<1.27,>=1.21.1 in /shared-libs/python3.7/py/lib/python3.7/site-packages (from requests[socks]->snscrape) (1.26.9)\nRequirement already satisfied: charset-normalizer~=2.0.0; python_version >= \"3\" in /shared-libs/python3.7/py-core/lib/python3.7/site-packages (from requests[socks]->snscrape) (2.0.12)\nRequirement already satisfied: certifi>=2017.4.17 in /shared-libs/python3.7/py/lib/python3.7/site-packages (from requests[socks]->snscrape) (2021.10.8)\nCollecting PySocks!=1.5.7,>=1.5.6; extra == \"socks\"\n  Downloading PySocks-1.7.1-py3-none-any.whl (16 kB)\nInstalling collected packages: snscrape, PySocks\nSuccessfully installed PySocks-1.7.1 snscrape-0.3.4\n\u001b[33mWARNING: You are using pip version 20.1.1; however, version 22.0.4 is available.\nYou should consider upgrading via the '/root/venv/bin/python -m pip install --upgrade pip' command.\u001b[0m\n",
     "output_type": "stream"
    }
   ]
  },
  {
   "cell_type": "code",
   "metadata": {
    "cell_id": "fd93f424368e4349ad722fc76d7568e3",
    "tags": [],
    "deepnote_to_be_reexecuted": false,
    "source_hash": "5e0572e",
    "execution_start": 1651848708840,
    "execution_millis": 0,
    "owner_user_id": "d1b642c3-dab3-4b11-a2d7-2abead79003a",
    "deepnote_cell_type": "code",
    "deepnote_cell_height": 153
   },
   "source": "# import libraries\nimport snscrape.modules.twitter as sntwitter\nimport snscrape.modules.twitter\n\nimport pandas as pd",
   "execution_count": null,
   "outputs": []
  },
  {
   "cell_type": "code",
   "metadata": {
    "cell_id": "554276421ea9411a99a189aaddfcb8e5",
    "tags": [],
    "deepnote_to_be_reexecuted": false,
    "source_hash": "e634211",
    "execution_start": 1651848710440,
    "execution_millis": 1,
    "deepnote_cell_type": "code",
    "deepnote_cell_height": 963
   },
   "source": "def crawl_tweets(query, csv_name):\n    TWEET_PATH = './tweets'\n    save_path = '{}/{}.csv'.format(TWEET_PATH, csv_name)\n\n    print(\"Scraping using query > {} <\".format(query))\n    print(\"Data will be saved to > {} >\".format(save_path))\n\n    # create a list to append twitter data to\n    tweets_list = []\n\n    # use TwitterSearchScraper to scrape data and append tweets to list\n    for i, tweet in enumerate(sntwitter.TwitterSearchScraper(query).get_items()):\n        tweets_list.append(\n            [\n                tweet.id,\n                tweet.url,\n                tweet.date,\n                tweet.content,\n                tweet.user.username,\n                tweet.replyCount,\n                tweet.retweetCount,\n                tweet.likeCount,\n                tweet.retweetedTweet,\n                tweet.mentionedUsers,\n            ]\n        )\n        if i % 100 == 0:\n            print(\"====== Scrapped {} =======\".format(i))\n\n    print(\"====== Scrapped {} in total =======\".format(len(tweets_list)))\n\n    # create a dataframe to view the result\n    tweets_df = pd.DataFrame(\n        tweets_list,\n        columns=[\n            \"id\",\n            \"url\",\n            \"date\",\n            \"content\",\n            \"username\",\n            \"replyCount\",\n            \"retweetCount\",\n            \"likeCount\",\n            \"retweetedTweet\",\n            \"mentionedUsers\",\n        ],\n    )\n    tweets_df.to_csv(save_path)\n    return tweets_df\n",
   "execution_count": null,
   "outputs": []
  },
  {
   "cell_type": "code",
   "metadata": {
    "cell_id": "f0c1bb87e5d94850b5b4a305cd881013",
    "tags": [],
    "deepnote_to_be_reexecuted": false,
    "source_hash": "805347ac",
    "execution_start": 1651848712533,
    "execution_millis": 1387,
    "deepnote_cell_type": "code",
    "deepnote_cell_height": 512.6875,
    "deepnote_output_heights": [
     null,
     270.625
    ]
   },
   "source": "# from user\ncrawl_tweets('from:NFTethics', 'from_nftethics')",
   "execution_count": null,
   "outputs": [
    {
     "name": "stdout",
     "text": "Scraping using query > from:NFTethics <\nData will be saved to > ./tweets/from_nftethics.csv >\n",
     "output_type": "stream"
    },
    {
     "output_type": "error",
     "ename": "AttributeError",
     "evalue": "'Tweet' object has no attribute 'user'",
     "traceback": [
      "\u001b[0;31m---------------------------------------------------------------------------\u001b[0m",
      "\u001b[0;31mAttributeError\u001b[0m                            Traceback (most recent call last)",
      "\u001b[0;32m<ipython-input-9-b866c126897f>\u001b[0m in \u001b[0;36m<module>\u001b[0;34m\u001b[0m\n\u001b[1;32m      1\u001b[0m \u001b[0;31m# from user\u001b[0m\u001b[0;34m\u001b[0m\u001b[0;34m\u001b[0m\u001b[0;34m\u001b[0m\u001b[0m\n\u001b[0;32m----> 2\u001b[0;31m \u001b[0mcrawl_tweets\u001b[0m\u001b[0;34m(\u001b[0m\u001b[0;34m'from:NFTethics'\u001b[0m\u001b[0;34m,\u001b[0m \u001b[0;34m'from_nftethics'\u001b[0m\u001b[0;34m)\u001b[0m\u001b[0;34m\u001b[0m\u001b[0;34m\u001b[0m\u001b[0m\n\u001b[0m",
      "\u001b[0;32m<ipython-input-8-85d85f5b9255>\u001b[0m in \u001b[0;36mcrawl_tweets\u001b[0;34m(query, csv_name)\u001b[0m\n\u001b[1;32m     17\u001b[0m                 \u001b[0mtweet\u001b[0m\u001b[0;34m.\u001b[0m\u001b[0mdate\u001b[0m\u001b[0;34m,\u001b[0m\u001b[0;34m\u001b[0m\u001b[0;34m\u001b[0m\u001b[0m\n\u001b[1;32m     18\u001b[0m                 \u001b[0mtweet\u001b[0m\u001b[0;34m.\u001b[0m\u001b[0mcontent\u001b[0m\u001b[0;34m,\u001b[0m\u001b[0;34m\u001b[0m\u001b[0;34m\u001b[0m\u001b[0m\n\u001b[0;32m---> 19\u001b[0;31m                 \u001b[0mtweet\u001b[0m\u001b[0;34m.\u001b[0m\u001b[0muser\u001b[0m\u001b[0;34m.\u001b[0m\u001b[0musername\u001b[0m\u001b[0;34m,\u001b[0m\u001b[0;34m\u001b[0m\u001b[0;34m\u001b[0m\u001b[0m\n\u001b[0m\u001b[1;32m     20\u001b[0m                 \u001b[0mtweet\u001b[0m\u001b[0;34m.\u001b[0m\u001b[0mreplyCount\u001b[0m\u001b[0;34m,\u001b[0m\u001b[0;34m\u001b[0m\u001b[0;34m\u001b[0m\u001b[0m\n\u001b[1;32m     21\u001b[0m                 \u001b[0mtweet\u001b[0m\u001b[0;34m.\u001b[0m\u001b[0mretweetCount\u001b[0m\u001b[0;34m,\u001b[0m\u001b[0;34m\u001b[0m\u001b[0;34m\u001b[0m\u001b[0m\n",
      "\u001b[0;31mAttributeError\u001b[0m: 'Tweet' object has no attribute 'user'"
     ]
    }
   ]
  },
  {
   "cell_type": "code",
   "metadata": {
    "cell_id": "8e113107e8af4b6bb1fcd67a7c5ded07",
    "tags": [],
    "deepnote_cell_type": "code",
    "deepnote_cell_height": 66
   },
   "source": "",
   "execution_count": null,
   "outputs": []
  },
  {
   "cell_type": "markdown",
   "source": "<a style='text-decoration:none;line-height:16px;display:flex;color:#5B5B62;padding:10px;justify-content:end;' href='https://deepnote.com?utm_source=created-in-deepnote-cell&projectId=46584e2a-add3-4c70-b004-7268e7caedfc' target=\"_blank\">\n<img alt='Created in deepnote.com' style='display:inline;max-height:16px;margin:0px;margin-right:7.5px;' src='data:image/svg+xml;base64,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' > </img>\nCreated in <span style='font-weight:600;margin-left:4px;'>Deepnote</span></a>",
   "metadata": {
    "tags": [],
    "created_in_deepnote_cell": true,
    "deepnote_cell_type": "markdown"
   }
  }
 ],
 "nbformat": 4,
 "nbformat_minor": 2,
 "metadata": {
  "orig_nbformat": 2,
  "deepnote": {},
  "deepnote_notebook_id": "c76ec505-5df4-44a9-ac89-daeaa88006f2",
  "deepnote_execution_queue": []
 }
}
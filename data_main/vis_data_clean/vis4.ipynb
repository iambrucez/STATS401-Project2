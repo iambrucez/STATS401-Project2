{
 "cells": [
  {
   "cell_type": "code",
   "execution_count": 1,
   "metadata": {},
   "outputs": [],
   "source": [
    "import time\n",
    "import json\n",
    "import pandas as pd\n",
    "import numpy as np"
   ]
  },
  {
   "cell_type": "code",
   "execution_count": 2,
   "metadata": {},
   "outputs": [],
   "source": [
    "# PATHs\n",
    "\n",
    "## The directory where the dune data is stored\n",
    "DUNE_DATA_PATH = '../dune_data'\n",
    "\n",
    "## The directory where the cryptopunk data with attributes info is stored\n",
    "CSV_PATH = '../cp'\n",
    "\n",
    "## The directory where the three databases are stored\n",
    "DATABASE_PATH = '../database'\n",
    "\n",
    "## The directory where the cryptopunk images is stored\n",
    "PUNK_IMG_PATH='../punk_imgs'\n",
    "\n",
    "## The directory where the visualization data for each visualization is stored\n",
    "VIS_DATA_PATH = '../vis_data'\n",
    "\n",
    "## The directory where the scraped tweets data is stored\n",
    "TWEET_PATH = '../tweets'"
   ]
  },
  {
   "cell_type": "code",
   "execution_count": 3,
   "metadata": {},
   "outputs": [],
   "source": [
    "# read transaction database\n",
    "tx_db = pd.read_csv('{}/tx_db.csv'.format(DATABASE_PATH), index_col=0)\n",
    "\n",
    "# read cryptopunk database\n",
    "punk_db = pd.read_csv('{}/punk_db.csv'.format(DATABASE_PATH), index_col=0)\n",
    "punk_db['attributes'] = punk_db['attributes'].apply(eval)\n",
    "\n",
    "# read trader database\n",
    "trader_db = pd.read_csv('{}/trader_db.csv'.format(DATABASE_PATH), index_col=0)\n"
   ]
  },
  {
   "cell_type": "markdown",
   "metadata": {},
   "source": [
    "### 4. Network\n",
    "\n",
    "<img src=\"../imgs/vis4_example.png\" alt=\"drawing\" width=\"500\">\n",
    "\n",
    "Data format\n",
    "\n",
    "```\n",
    "Node\n",
    "\t1  node_id: trader_id\n",
    "\t2  node_type: most_skin_tone\n",
    "\n",
    "Link\n",
    "\t1  source_node_id: trader_id\n",
    "\t2  target_node_id: trader_id\n",
    "\t3  link_type: punk_skin_tone\n",
    "```"
   ]
  },
  {
   "cell_type": "code",
   "execution_count": null,
   "metadata": {},
   "outputs": [],
   "source": []
  }
 ],
 "metadata": {
  "interpreter": {
   "hash": "c1755ba46f2b681f48ef226ecf2d7339b20e415020915864a2e8fc6a4c595296"
  },
  "kernelspec": {
   "display_name": "Python 3.8.12",
   "language": "python",
   "name": "python3"
  },
  "language_info": {
   "codemirror_mode": {
    "name": "ipython",
    "version": 3
   },
   "file_extension": ".py",
   "mimetype": "text/x-python",
   "name": "python",
   "nbconvert_exporter": "python",
   "pygments_lexer": "ipython3",
   "version": "3.8.12"
  },
  "orig_nbformat": 4
 },
 "nbformat": 4,
 "nbformat_minor": 2
}

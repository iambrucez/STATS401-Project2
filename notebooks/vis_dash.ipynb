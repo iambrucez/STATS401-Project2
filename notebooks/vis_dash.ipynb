{
 "cells": [
  {
   "cell_type": "markdown",
   "metadata": {},
   "source": [
    "# Visualization via Plotly Dash"
   ]
  },
  {
   "cell_type": "code",
   "execution_count": 1,
   "metadata": {},
   "outputs": [
    {
     "name": "stderr",
     "output_type": "stream",
     "text": [
      "/var/folders/vk/qtf7k0110x7bb94g6sd3655r0000gn/T/ipykernel_2730/3910506290.py:3: UserWarning: \n",
      "The dash_core_components package is deprecated. Please replace\n",
      "`import dash_core_components as dcc` with `from dash import dcc`\n",
      "  import dash_core_components as dcc\n",
      "/var/folders/vk/qtf7k0110x7bb94g6sd3655r0000gn/T/ipykernel_2730/3910506290.py:4: UserWarning: \n",
      "The dash_html_components package is deprecated. Please replace\n",
      "`import dash_html_components as html` with `from dash import html`\n",
      "  import dash_html_components as html\n"
     ]
    }
   ],
   "source": [
    "import plotly.express as px\n",
    "from jupyter_dash import JupyterDash\n",
    "import dash_core_components as dcc\n",
    "import dash_html_components as html\n",
    "from dash.dependencies import Input, Output\n",
    "from jupyter_dash import JupyterDash\n",
    "from dash import no_update\n",
    "import plotly.graph_objects as go\n",
    "\n",
    "import pandas as pd\n",
    "import numpy as np\n",
    "import time"
   ]
  },
  {
   "cell_type": "code",
   "execution_count": 2,
   "metadata": {},
   "outputs": [],
   "source": [
    "# PATHs\n",
    "\n",
    "## The directory where the dune data is stored\n",
    "DUNE_DATA_PATH = '../dune_data'\n",
    "\n",
    "## The directory where the cryptopunk data with attributes info is stored\n",
    "CSV_PATH = '../cp'\n",
    "\n",
    "## The directory where the three databases are stored\n",
    "DATABASE_PATH = '../database'\n",
    "\n",
    "## The directory where the cryptopunk images is stored\n",
    "PUNK_IMG_PATH='../punk_imgs'\n",
    "\n",
    "## The directory where the visualization data for each visualization is stored\n",
    "VIS_DATA_PATH = '../vis_data'\n",
    "\n",
    "## The directory where the scraped tweets data is stored\n",
    "TWEET_PATH = '../tweets'"
   ]
  },
  {
   "cell_type": "markdown",
   "metadata": {},
   "source": [
    "## Vis1. Sankey Diagram"
   ]
  },
  {
   "cell_type": "code",
   "execution_count": 3,
   "metadata": {},
   "outputs": [],
   "source": [
    "import json\n",
    "\n",
    "data1 = json.load(open(VIS_DATA_PATH + '/vis1_data.json'))"
   ]
  },
  {
   "cell_type": "code",
   "execution_count": null,
   "metadata": {},
   "outputs": [],
   "source": [
    "fig1 = go.Figure(data=[go.Sankey(\n",
    "    valueformat=\".0f\",\n",
    "    valuesuffix=\"TWh\",\n",
    "    # Define nodes\n",
    "    node=dict(\n",
    "        pad=15,\n",
    "        thickness=15,\n",
    "        line=dict(color=\"black\", width=0.5),\n",
    "        label=data1['node'],\n",
    "        color='#3347D7'\n",
    "    ),\n",
    "    # Add links\n",
    "    link=dict(\n",
    "        source=data1['link']['source'],\n",
    "        target=data1['link']['target'],\n",
    "        value=data1['link']['value'],\n",
    "        color='#B7E5F2'\n",
    "    ))])\n",
    "\n",
    "fig1.show()\n"
   ]
  },
  {
   "cell_type": "markdown",
   "metadata": {},
   "source": [
    "## Vis2. Time River"
   ]
  },
  {
   "cell_type": "code",
   "execution_count": null,
   "metadata": {},
   "outputs": [],
   "source": []
  },
  {
   "cell_type": "markdown",
   "metadata": {},
   "source": [
    "## Vis3. Bubble Chart"
   ]
  },
  {
   "cell_type": "code",
   "execution_count": 5,
   "metadata": {},
   "outputs": [
    {
     "data": {
      "text/html": [
       "<div>\n",
       "<style scoped>\n",
       "    .dataframe tbody tr th:only-of-type {\n",
       "        vertical-align: middle;\n",
       "    }\n",
       "\n",
       "    .dataframe tbody tr th {\n",
       "        vertical-align: top;\n",
       "    }\n",
       "\n",
       "    .dataframe thead th {\n",
       "        text-align: right;\n",
       "    }\n",
       "</style>\n",
       "<table border=\"1\" class=\"dataframe\">\n",
       "  <thead>\n",
       "    <tr style=\"text-align: right;\">\n",
       "      <th></th>\n",
       "      <th>date</th>\n",
       "      <th>price</th>\n",
       "      <th>bubble_size</th>\n",
       "      <th>bubble_color</th>\n",
       "      <th>from</th>\n",
       "      <th>to</th>\n",
       "      <th>punk_id</th>\n",
       "      <th>img_url</th>\n",
       "    </tr>\n",
       "    <tr>\n",
       "      <th>tx_id</th>\n",
       "      <th></th>\n",
       "      <th></th>\n",
       "      <th></th>\n",
       "      <th></th>\n",
       "      <th></th>\n",
       "      <th></th>\n",
       "      <th></th>\n",
       "      <th></th>\n",
       "    </tr>\n",
       "  </thead>\n",
       "  <tbody>\n",
       "    <tr>\n",
       "      <th>4940</th>\n",
       "      <td>2021-01-01 11:01:00</td>\n",
       "      <td>88.55</td>\n",
       "      <td>2</td>\n",
       "      <td>#F2DC5D</td>\n",
       "      <td>2427</td>\n",
       "      <td>4146</td>\n",
       "      <td>9368</td>\n",
       "      <td>https://www.larvalabs.com/cryptopunks/cryptopu...</td>\n",
       "    </tr>\n",
       "    <tr>\n",
       "      <th>4941</th>\n",
       "      <td>2021-01-01 17:01:49</td>\n",
       "      <td>11.44</td>\n",
       "      <td>3</td>\n",
       "      <td>#A4031F</td>\n",
       "      <td>5422</td>\n",
       "      <td>5635</td>\n",
       "      <td>4444</td>\n",
       "      <td>https://www.larvalabs.com/cryptopunks/cryptopu...</td>\n",
       "    </tr>\n",
       "    <tr>\n",
       "      <th>4942</th>\n",
       "      <td>2021-01-02 02:01:42</td>\n",
       "      <td>5.47</td>\n",
       "      <td>3</td>\n",
       "      <td>#F2A359</td>\n",
       "      <td>2033</td>\n",
       "      <td>3466</td>\n",
       "      <td>9340</td>\n",
       "      <td>https://www.larvalabs.com/cryptopunks/cryptopu...</td>\n",
       "    </tr>\n",
       "    <tr>\n",
       "      <th>4943</th>\n",
       "      <td>2021-01-02 17:01:12</td>\n",
       "      <td>5.45</td>\n",
       "      <td>2</td>\n",
       "      <td>#F2A359</td>\n",
       "      <td>982</td>\n",
       "      <td>1484</td>\n",
       "      <td>4861</td>\n",
       "      <td>https://www.larvalabs.com/cryptopunks/cryptopu...</td>\n",
       "    </tr>\n",
       "    <tr>\n",
       "      <th>4944</th>\n",
       "      <td>2021-01-02 18:01:37</td>\n",
       "      <td>5.30</td>\n",
       "      <td>2</td>\n",
       "      <td>#A4031F</td>\n",
       "      <td>4463</td>\n",
       "      <td>3836</td>\n",
       "      <td>9683</td>\n",
       "      <td>https://www.larvalabs.com/cryptopunks/cryptopu...</td>\n",
       "    </tr>\n",
       "  </tbody>\n",
       "</table>\n",
       "</div>"
      ],
      "text/plain": [
       "                      date  price  bubble_size bubble_color  from    to  \\\n",
       "tx_id                                                                     \n",
       "4940   2021-01-01 11:01:00  88.55            2      #F2DC5D  2427  4146   \n",
       "4941   2021-01-01 17:01:49  11.44            3      #A4031F  5422  5635   \n",
       "4942   2021-01-02 02:01:42   5.47            3      #F2A359  2033  3466   \n",
       "4943   2021-01-02 17:01:12   5.45            2      #F2A359   982  1484   \n",
       "4944   2021-01-02 18:01:37   5.30            2      #A4031F  4463  3836   \n",
       "\n",
       "       punk_id                                            img_url  \n",
       "tx_id                                                              \n",
       "4940      9368  https://www.larvalabs.com/cryptopunks/cryptopu...  \n",
       "4941      4444  https://www.larvalabs.com/cryptopunks/cryptopu...  \n",
       "4942      9340  https://www.larvalabs.com/cryptopunks/cryptopu...  \n",
       "4943      4861  https://www.larvalabs.com/cryptopunks/cryptopu...  \n",
       "4944      9683  https://www.larvalabs.com/cryptopunks/cryptopu...  "
      ]
     },
     "execution_count": 5,
     "metadata": {},
     "output_type": "execute_result"
    }
   ],
   "source": [
    "df3 = pd.read_csv('{}/vis3_data.csv'.format(VIS_DATA_PATH),\n",
    "                  header=0, index_col=0)\n",
    "\n",
    "df3 = df3[df3['date'] > '2021-01-01']\n",
    "\n",
    "df3.head()\n"
   ]
  },
  {
   "cell_type": "code",
   "execution_count": null,
   "metadata": {},
   "outputs": [],
   "source": [
    "fig3 = go.Figure(data=[\n",
    "    go.Scatter(\n",
    "        x=df3[\"date\"],\n",
    "        y=df3[\"price\"],\n",
    "        mode=\"markers\",\n",
    "        marker=dict(\n",
    "            color=df3[\"bubble_color\"],\n",
    "            size=df3[\"bubble_size\"],\n",
    "            line={\"width\": 0},\n",
    "            sizeref=1,\n",
    "            sizemode=\"diameter\",\n",
    "            opacity=0.8,\n",
    "        )\n",
    "    )\n",
    "])\n",
    "\n",
    "\n",
    "# turn off native plotly.js hover effects - make sure to use\n",
    "# hoverinfo=\"none\" rather than \"skip\" which also halts events.\n",
    "\n",
    "fig3.update_traces(hoverinfo=\"none\", hovertemplate=None)\n",
    "\n",
    "fig3.update_layout(\n",
    "    xaxis=dict(title='Date'),\n",
    "    yaxis=dict(title='Eth Price'),\n",
    "    plot_bgcolor='rgba(255,255,255,0.1)'\n",
    ")\n",
    "\n",
    "fig3.show()\n"
   ]
  },
  {
   "cell_type": "markdown",
   "metadata": {},
   "source": [
    "## Vis3_2"
   ]
  },
  {
   "cell_type": "code",
   "execution_count": 7,
   "metadata": {},
   "outputs": [
    {
     "data": {
      "text/html": [
       "<div>\n",
       "<style scoped>\n",
       "    .dataframe tbody tr th:only-of-type {\n",
       "        vertical-align: middle;\n",
       "    }\n",
       "\n",
       "    .dataframe tbody tr th {\n",
       "        vertical-align: top;\n",
       "    }\n",
       "\n",
       "    .dataframe thead th {\n",
       "        text-align: right;\n",
       "    }\n",
       "</style>\n",
       "<table border=\"1\" class=\"dataframe\">\n",
       "  <thead>\n",
       "    <tr style=\"text-align: right;\">\n",
       "      <th></th>\n",
       "      <th>type</th>\n",
       "      <th>gender</th>\n",
       "      <th>skin_tone</th>\n",
       "      <th>attr_count</th>\n",
       "      <th>img_url</th>\n",
       "      <th>avg_price</th>\n",
       "      <th>category</th>\n",
       "      <th>bubble_color</th>\n",
       "      <th>log_price</th>\n",
       "      <th>size</th>\n",
       "    </tr>\n",
       "    <tr>\n",
       "      <th>punk_id</th>\n",
       "      <th></th>\n",
       "      <th></th>\n",
       "      <th></th>\n",
       "      <th></th>\n",
       "      <th></th>\n",
       "      <th></th>\n",
       "      <th></th>\n",
       "      <th></th>\n",
       "      <th></th>\n",
       "      <th></th>\n",
       "    </tr>\n",
       "  </thead>\n",
       "  <tbody>\n",
       "    <tr>\n",
       "      <th>1</th>\n",
       "      <td>Human</td>\n",
       "      <td>Male</td>\n",
       "      <td>Dark</td>\n",
       "      <td>2</td>\n",
       "      <td>https://www.larvalabs.com/cryptopunks/cryptopu...</td>\n",
       "      <td>31.00</td>\n",
       "      <td>Human Male</td>\n",
       "      <td>#A4031F</td>\n",
       "      <td>3.433987</td>\n",
       "      <td>0.2</td>\n",
       "    </tr>\n",
       "    <tr>\n",
       "      <th>14</th>\n",
       "      <td>Human</td>\n",
       "      <td>Female</td>\n",
       "      <td>Dark</td>\n",
       "      <td>3</td>\n",
       "      <td>https://www.larvalabs.com/cryptopunks/cryptopu...</td>\n",
       "      <td>1.75</td>\n",
       "      <td>Human Female</td>\n",
       "      <td>#A4031F</td>\n",
       "      <td>0.559616</td>\n",
       "      <td>0.2</td>\n",
       "    </tr>\n",
       "    <tr>\n",
       "      <th>53</th>\n",
       "      <td>Human</td>\n",
       "      <td>Female</td>\n",
       "      <td>Light</td>\n",
       "      <td>2</td>\n",
       "      <td>https://www.larvalabs.com/cryptopunks/cryptopu...</td>\n",
       "      <td>57.33</td>\n",
       "      <td>Human Female</td>\n",
       "      <td>#F2A359</td>\n",
       "      <td>4.048824</td>\n",
       "      <td>0.2</td>\n",
       "    </tr>\n",
       "    <tr>\n",
       "      <th>89</th>\n",
       "      <td>Human</td>\n",
       "      <td>Female</td>\n",
       "      <td>Dark</td>\n",
       "      <td>1</td>\n",
       "      <td>https://www.larvalabs.com/cryptopunks/cryptopu...</td>\n",
       "      <td>19.99</td>\n",
       "      <td>Human Female</td>\n",
       "      <td>#A4031F</td>\n",
       "      <td>2.995232</td>\n",
       "      <td>0.2</td>\n",
       "    </tr>\n",
       "    <tr>\n",
       "      <th>116</th>\n",
       "      <td>Human</td>\n",
       "      <td>Female</td>\n",
       "      <td>Dark</td>\n",
       "      <td>4</td>\n",
       "      <td>https://www.larvalabs.com/cryptopunks/cryptopu...</td>\n",
       "      <td>1.80</td>\n",
       "      <td>Human Female</td>\n",
       "      <td>#A4031F</td>\n",
       "      <td>0.587787</td>\n",
       "      <td>0.2</td>\n",
       "    </tr>\n",
       "  </tbody>\n",
       "</table>\n",
       "</div>"
      ],
      "text/plain": [
       "          type  gender skin_tone  attr_count  \\\n",
       "punk_id                                        \n",
       "1        Human    Male      Dark           2   \n",
       "14       Human  Female      Dark           3   \n",
       "53       Human  Female     Light           2   \n",
       "89       Human  Female      Dark           1   \n",
       "116      Human  Female      Dark           4   \n",
       "\n",
       "                                                   img_url  avg_price  \\\n",
       "punk_id                                                                 \n",
       "1        https://www.larvalabs.com/cryptopunks/cryptopu...      31.00   \n",
       "14       https://www.larvalabs.com/cryptopunks/cryptopu...       1.75   \n",
       "53       https://www.larvalabs.com/cryptopunks/cryptopu...      57.33   \n",
       "89       https://www.larvalabs.com/cryptopunks/cryptopu...      19.99   \n",
       "116      https://www.larvalabs.com/cryptopunks/cryptopu...       1.80   \n",
       "\n",
       "             category bubble_color  log_price  size  \n",
       "punk_id                                              \n",
       "1          Human Male      #A4031F   3.433987   0.2  \n",
       "14       Human Female      #A4031F   0.559616   0.2  \n",
       "53       Human Female      #F2A359   4.048824   0.2  \n",
       "89       Human Female      #A4031F   2.995232   0.2  \n",
       "116      Human Female      #A4031F   0.587787   0.2  "
      ]
     },
     "execution_count": 7,
     "metadata": {},
     "output_type": "execute_result"
    }
   ],
   "source": [
    "df3_2 = pd.read_csv('{}/vis3_2_data.csv'.format(VIS_DATA_PATH),\n",
    "                  header=0, index_col=0)\n",
    "\n",
    "df3_2['log_price'] = np.log(df3_2['avg_price'])\n",
    "df3_2 = df3_2[df3_2['avg_price'] < 2000]\n",
    "df3_2['size'] = np.array([0.2] * len(df3_2))\n",
    "\n",
    "df3_2.head()\n"
   ]
  },
  {
   "cell_type": "code",
   "execution_count": null,
   "metadata": {},
   "outputs": [],
   "source": [
    "import plotly.express as px\n",
    "\n",
    "fig = px.scatter_3d(df3_2, x='category', y='attr_count', z='avg_price',\n",
    "              color='skin_tone', size='size')\n",
    "fig.show()"
   ]
  },
  {
   "cell_type": "code",
   "execution_count": 29,
   "metadata": {},
   "outputs": [],
   "source": [
    "# df1 = pd.DataFrame({\n",
    "#     \"Fruit\": [\"Apples\", \"Oranges\", \"Bananas\", \"Apples\", \"Oranges\", \"Bananas\"],\n",
    "#     \"Amount\": [4, 1, 2, 2, 4, 5],\n",
    "#     \"City\": [\"SF\", \"SF\", \"SF\", \"Montreal\", \"Montreal\", \"Montreal\"]\n",
    "# })\n",
    "\n",
    "# fig1 = px.bar(df1, x=\"Fruit\", y=\"Amount\", color=\"City\", barmode=\"group\")"
   ]
  },
  {
   "cell_type": "code",
   "execution_count": 30,
   "metadata": {},
   "outputs": [
    {
     "name": "stdout",
     "output_type": "stream",
     "text": [
      "Dash app running on http://localhost:8051/\n"
     ]
    }
   ],
   "source": [
    "# Build App\n",
    "app = JupyterDash(__name__)\n",
    "app.layout = html.Div(children=[\n",
    "    html.Div(children=[\n",
    "        html.H1(children='Visualization 1'),\n",
    "\n",
    "        html.Div(children='''\n",
    "        Example chart.\n",
    "        '''\n",
    "                 ),\n",
    "\n",
    "        dcc.Graph(\n",
    "            id='graph-1',\n",
    "            figure=fig1\n",
    "        )\n",
    "    ]),\n",
    "\n",
    "    html.Div(children=[\n",
    "        html.H1(children='Visualization 3'),\n",
    "\n",
    "        html.Div(children='''\n",
    "        Bubble chart.\n",
    "        '''\n",
    "                 ),\n",
    "\n",
    "        dcc.Graph(\n",
    "            id='graph-3',\n",
    "            figure=fig3\n",
    "        ),\n",
    "        dcc.Tooltip(id=\"graph-tooltip\"),\n",
    "    ])\n",
    "])\n",
    "# Define callback to update graph\n",
    "\n",
    "\n",
    "@app.callback(\n",
    "    Output(\"graph-tooltip\", \"show\"),\n",
    "    Output(\"graph-tooltip\", \"bbox\"),\n",
    "    Output(\"graph-tooltip\", \"children\"),\n",
    "    [Input(\"graph-3\", \"hoverData\")]\n",
    ")\n",
    "def display_hover(hoverData):\n",
    "    if hoverData is None:\n",
    "        return False, no_update, no_update\n",
    "\n",
    "    # demo only shows the first point, but other points may also be available\n",
    "    pt = hoverData[\"points\"][0]\n",
    "    bbox = pt[\"bbox\"]\n",
    "    num = pt[\"pointNumber\"]\n",
    "\n",
    "    df_row = df3.iloc[num]\n",
    "    img_src = df_row['img_url']\n",
    "    punk_id = df_row['punk_id']\n",
    "    from_id = df_row['from']\n",
    "    to_id = df_row['to']\n",
    "\n",
    "    children = [\n",
    "        html.Div([\n",
    "            html.Img(src=img_src, style={\"width\": \"100%\"}),\n",
    "            html.H2(f\"{punk_id}\", style={\"color\": \"darkblue\"}),\n",
    "            html.P(f\"{from_id}\"),\n",
    "            html.P(f\"{to_id}\"),\n",
    "        ], style={'width': '200px', 'white-space': 'normal'})\n",
    "    ]\n",
    "\n",
    "    return True, bbox, children\n",
    "\n",
    "\n",
    "# Run app and display result inline in the notebook\n",
    "app.run_server(mode='external',host=\"localhost\",port=8051)\n"
   ]
  },
  {
   "cell_type": "code",
   "execution_count": 8,
   "metadata": {},
   "outputs": [
    {
     "name": "stdout",
     "output_type": "stream",
     "text": [
      "Collecting virtualenv\n",
      "  Downloading virtualenv-20.14.1-py2.py3-none-any.whl (8.8 MB)\n",
      "\u001b[K     |████████████████████████████████| 8.8 MB 296 kB/s eta 0:00:01\n",
      "\u001b[?25hCollecting distlib<1,>=0.3.1\n",
      "  Downloading distlib-0.3.4-py2.py3-none-any.whl (461 kB)\n",
      "\u001b[K     |████████████████████████████████| 461 kB 319 kB/s eta 0:00:01\n",
      "\u001b[?25hRequirement already satisfied: filelock<4,>=3.2 in /Users/brucez/opt/anaconda3/envs/deeplearning/lib/python3.8/site-packages (from virtualenv) (3.6.0)\n",
      "Collecting platformdirs<3,>=2\n",
      "  Downloading platformdirs-2.5.2-py3-none-any.whl (14 kB)\n",
      "Requirement already satisfied: six<2,>=1.9.0 in /Users/brucez/opt/anaconda3/envs/deeplearning/lib/python3.8/site-packages (from virtualenv) (1.16.0)\n",
      "Installing collected packages: platformdirs, distlib, virtualenv\n",
      "\u001b[33m  WARNING: The script virtualenv is installed in '/Users/brucez/.local/bin' which is not on PATH.\n",
      "  Consider adding this directory to PATH or, if you prefer to suppress this warning, use --no-warn-script-location.\u001b[0m\n",
      "Successfully installed distlib-0.3.4 platformdirs-2.5.2 virtualenv-20.14.1\n"
     ]
    }
   ],
   "source": [
    "!python -m pip install --user virtualenv"
   ]
  },
  {
   "cell_type": "code",
   "execution_count": 16,
   "metadata": {},
   "outputs": [],
   "source": [
    "from plotly.colors import hex_to_rgb"
   ]
  },
  {
   "cell_type": "code",
   "execution_count": 18,
   "metadata": {},
   "outputs": [
    {
     "data": {
      "text/plain": [
       "'(224, 224, 224)'"
      ]
     },
     "execution_count": 18,
     "metadata": {},
     "output_type": "execute_result"
    }
   ],
   "source": [
    "str(hex_to_rgb('#E0E0E0'))"
   ]
  },
  {
   "cell_type": "code",
   "execution_count": 20,
   "metadata": {},
   "outputs": [
    {
     "data": {
      "text/plain": [
       "'rgb(224,224,224,0.5)'"
      ]
     },
     "execution_count": 20,
     "metadata": {},
     "output_type": "execute_result"
    }
   ],
   "source": [
    "'rgb('+str(hex_to_rgb('#E0E0E0')[0]) + ',' + str(hex_to_rgb('#E0E0E0')[1]) + ',' + str(hex_to_rgb('#E0E0E0')[2]) + ',0.5)'"
   ]
  },
  {
   "cell_type": "code",
   "execution_count": 14,
   "metadata": {},
   "outputs": [],
   "source": [
    "from matplotlib.colors import to_rgba"
   ]
  },
  {
   "cell_type": "code",
   "execution_count": 15,
   "metadata": {},
   "outputs": [
    {
     "data": {
      "text/plain": [
       "(0.8784313725490196, 0.8784313725490196, 0.8784313725490196, 1.0)"
      ]
     },
     "execution_count": 15,
     "metadata": {},
     "output_type": "execute_result"
    }
   ],
   "source": [
    "to_rgba('#E0E0E0')"
   ]
  },
  {
   "cell_type": "code",
   "execution_count": null,
   "metadata": {},
   "outputs": [],
   "source": []
  }
 ],
 "metadata": {
  "interpreter": {
   "hash": "c1755ba46f2b681f48ef226ecf2d7339b20e415020915864a2e8fc6a4c595296"
  },
  "kernelspec": {
   "display_name": "Python 3.8.12",
   "language": "python",
   "name": "python3"
  },
  "language_info": {
   "codemirror_mode": {
    "name": "ipython",
    "version": 3
   },
   "file_extension": ".py",
   "mimetype": "text/x-python",
   "name": "python",
   "nbconvert_exporter": "python",
   "pygments_lexer": "ipython3",
   "version": "3.8.12"
  },
  "orig_nbformat": 4
 },
 "nbformat": 4,
 "nbformat_minor": 2
}

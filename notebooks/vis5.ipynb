{
 "cells": [
  {
   "cell_type": "code",
   "execution_count": 14,
   "metadata": {},
   "outputs": [],
   "source": [
    "import time\n",
    "import json\n",
    "import pandas as pd\n",
    "import numpy as np\n",
    "import os"
   ]
  },
  {
   "cell_type": "code",
   "execution_count": 15,
   "metadata": {},
   "outputs": [],
   "source": [
    "# PATHs\n",
    "\n",
    "## The directory where the dune data is stored\n",
    "DUNE_DATA_PATH = '../dune_data'\n",
    "\n",
    "## The directory where the cryptopunk data with attributes info is stored\n",
    "CSV_PATH = '../cp'\n",
    "\n",
    "## The directory where the three databases are stored\n",
    "DATABASE_PATH = '../database'\n",
    "\n",
    "## The directory where the cryptopunk images is stored\n",
    "PUNK_IMG_PATH='../punk_imgs'\n",
    "\n",
    "## The directory where the visualization data for each visualization is stored\n",
    "VIS_DATA_PATH = '../vis_data'\n",
    "\n",
    "## The directory where the scraped tweets data is stored\n",
    "TWEET_PATH = '../tweets'"
   ]
  },
  {
   "cell_type": "code",
   "execution_count": 16,
   "metadata": {},
   "outputs": [],
   "source": [
    "# read transaction database\n",
    "tx_db = pd.read_csv('{}/tx_db.csv'.format(DATABASE_PATH), index_col=0)\n",
    "\n",
    "# read cryptopunk database\n",
    "punk_db = pd.read_csv('{}/punk_db.csv'.format(DATABASE_PATH), index_col=0)\n",
    "punk_db['attributes'] = punk_db['attributes'].apply(eval)\n",
    "\n",
    "# read trader database\n",
    "trader_db = pd.read_csv('{}/trader_db.csv'.format(DATABASE_PATH), index_col=0)\n"
   ]
  }
 ],
 "metadata": {
  "interpreter": {
   "hash": "ba698f744c7dc01005f818b16f404d2e35a2babad95f2d72d05b3d44bbea2aca"
  },
  "kernelspec": {
   "display_name": "Python 3.8.8",
   "language": "python",
   "name": "python3"
  },
  "language_info": {
   "codemirror_mode": {
    "name": "ipython",
    "version": 3
   },
   "file_extension": ".py",
   "mimetype": "text/x-python",
   "name": "python",
   "nbconvert_exporter": "python",
   "pygments_lexer": "ipython3",
   "version": "3.8.12"
  },
  "orig_nbformat": 4
 },
 "nbformat": 4,
 "nbformat_minor": 2
}

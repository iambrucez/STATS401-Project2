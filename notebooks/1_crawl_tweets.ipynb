{
 "cells": [
  {
   "cell_type": "code",
   "execution_count": 1,
   "metadata": {
    "cell_id": "eedd4fba-cb2f-4151-badc-8c2b306673fc",
    "deepnote_cell_height": 356.25,
    "deepnote_cell_type": "code",
    "deepnote_to_be_reexecuted": false,
    "execution_millis": 5864,
    "execution_start": 1651883789415,
    "source_hash": "d8d66a33",
    "tags": []
   },
   "outputs": [
    {
     "name": "stdout",
     "output_type": "stream",
     "text": [
      "Collecting snscrape\n",
      "  Downloading snscrape-0.3.4-py3-none-any.whl (35 kB)\n",
      "Requirement already satisfied: lxml in /shared-libs/python3.7/py/lib/python3.7/site-packages (from snscrape) (4.8.0)\n",
      "Requirement already satisfied: beautifulsoup4 in /shared-libs/python3.7/py/lib/python3.7/site-packages (from snscrape) (4.11.1)\n",
      "Requirement already satisfied: requests[socks] in /shared-libs/python3.7/py/lib/python3.7/site-packages (from snscrape) (2.27.1)\n",
      "Requirement already satisfied: soupsieve>1.2 in /shared-libs/python3.7/py/lib/python3.7/site-packages (from beautifulsoup4->snscrape) (2.3.2.post1)\n",
      "Requirement already satisfied: idna<4,>=2.5; python_version >= \"3\" in /shared-libs/python3.7/py-core/lib/python3.7/site-packages (from requests[socks]->snscrape) (3.3)\n",
      "Requirement already satisfied: urllib3<1.27,>=1.21.1 in /shared-libs/python3.7/py/lib/python3.7/site-packages (from requests[socks]->snscrape) (1.26.9)\n",
      "Requirement already satisfied: charset-normalizer~=2.0.0; python_version >= \"3\" in /shared-libs/python3.7/py-core/lib/python3.7/site-packages (from requests[socks]->snscrape) (2.0.12)\n",
      "Requirement already satisfied: certifi>=2017.4.17 in /shared-libs/python3.7/py/lib/python3.7/site-packages (from requests[socks]->snscrape) (2021.10.8)\n",
      "Collecting PySocks!=1.5.7,>=1.5.6; extra == \"socks\"\n",
      "  Downloading PySocks-1.7.1-py3-none-any.whl (16 kB)\n",
      "Installing collected packages: snscrape, PySocks\n",
      "Successfully installed PySocks-1.7.1 snscrape-0.3.4\n",
      "\u001b[33mWARNING: You are using pip version 20.1.1; however, version 22.0.4 is available.\n",
      "You should consider upgrading via the '/root/venv/bin/python -m pip install --upgrade pip' command.\u001b[0m\n"
     ]
    }
   ],
   "source": [
    "# install snscrape using pip\n",
    "!pip3 install snscrape"
   ]
  },
  {
   "cell_type": "code",
   "execution_count": null,
   "metadata": {
    "cell_id": "fd93f424368e4349ad722fc76d7568e3",
    "deepnote_cell_height": 153,
    "deepnote_cell_type": "code",
    "deepnote_to_be_reexecuted": false,
    "execution_millis": 0,
    "execution_start": 1651848708840,
    "owner_user_id": "d1b642c3-dab3-4b11-a2d7-2abead79003a",
    "source_hash": "5e0572e",
    "tags": []
   },
   "outputs": [],
   "source": [
    "# import libraries\n",
    "import snscrape.modules.twitter as sntwitter\n",
    "import snscrape.modules.twitter\n",
    "\n",
    "import pandas as pd"
   ]
  },
  {
   "cell_type": "code",
   "execution_count": 1,
   "metadata": {
    "cell_id": "554276421ea9411a99a189aaddfcb8e5",
    "deepnote_cell_height": 963,
    "deepnote_cell_type": "code",
    "deepnote_to_be_reexecuted": false,
    "execution_millis": 1,
    "execution_start": 1651848710440,
    "source_hash": "e634211",
    "tags": []
   },
   "outputs": [],
   "source": [
    "def crawl_tweets(query, csv_name):\n",
    "    TWEET_PATH = '../tweets'\n",
    "    save_path = '{}/{}.csv'.format(TWEET_PATH, csv_name)\n",
    "\n",
    "    print(\"Scraping using query > {} <\".format(query))\n",
    "    print(\"Data will be saved to > {} >\".format(save_path))\n",
    "\n",
    "    # create a list to append twitter data to\n",
    "    tweets_list = []\n",
    "\n",
    "    # use TwitterSearchScraper to scrape data and append tweets to list\n",
    "    for i, tweet in enumerate(sntwitter.TwitterSearchScraper(query).get_items()):\n",
    "        tweets_list.append(\n",
    "            [\n",
    "                tweet.id,\n",
    "                tweet.url,\n",
    "                tweet.date,\n",
    "                tweet.content,\n",
    "                tweet.user.username,\n",
    "                tweet.replyCount,\n",
    "                tweet.retweetCount,\n",
    "                tweet.likeCount,\n",
    "                tweet.retweetedTweet,\n",
    "                tweet.mentionedUsers,\n",
    "            ]\n",
    "        )\n",
    "        if i % 200 == 0:\n",
    "            print(\"====== Scrapped {} =======\".format(i))\n",
    "\n",
    "    print(\"====== Scrapped {} in total =======\".format(len(tweets_list)))\n",
    "\n",
    "    # create a dataframe to view the result\n",
    "    tweets_df = pd.DataFrame(\n",
    "        tweets_list,\n",
    "        columns=[\n",
    "            \"id\",\n",
    "            \"url\",\n",
    "            \"date\",\n",
    "            \"content\",\n",
    "            \"username\",\n",
    "            \"replyCount\",\n",
    "            \"retweetCount\",\n",
    "            \"likeCount\",\n",
    "            \"retweetedTweet\",\n",
    "            \"mentionedUsers\",\n",
    "        ],\n",
    "    )\n",
    "    tweets_df.to_csv(save_path)\n",
    "    return tweets_df\n"
   ]
  },
  {
   "cell_type": "code",
   "execution_count": 2,
   "metadata": {},
   "outputs": [],
   "source": [
    "def crawl_tweets_contains(keyword_1, keyword_2, min_favor=5):\n",
    "    query = '{} {} min_faves:{} lang:en'.format(keyword_1, keyword_2, min_favor)\n",
    "    csv_name = 'contain_{}_{}'.format(keyword_1, keyword_2.replace(' ', '_'))\n",
    "    return crawl_tweets(query, csv_name)\n",
    "\n",
    "\n",
    "def crawl_tweets_contains_serial(keyword_1, keyword_2_list, min_favor=5):\n",
    "    for keyword_2 in keyword_2_list:\n",
    "        crawl_tweets_contains(keyword_1, keyword_2, min_favor)"
   ]
  },
  {
   "cell_type": "code",
   "execution_count": null,
   "metadata": {
    "cell_id": "f0c1bb87e5d94850b5b4a305cd881013",
    "deepnote_cell_height": 512.6875,
    "deepnote_cell_type": "code",
    "deepnote_output_heights": [
     null,
     270.625
    ],
    "deepnote_to_be_reexecuted": false,
    "execution_millis": 1387,
    "execution_start": 1651848712533,
    "source_hash": "805347ac",
    "tags": []
   },
   "outputs": [],
   "source": [
    "# from user\n",
    "crawl_tweets('from:NFTethics', 'from_nftethics')"
   ]
  },
  {
   "cell_type": "code",
   "execution_count": null,
   "metadata": {
    "cell_id": "8e113107e8af4b6bb1fcd67a7c5ded07",
    "deepnote_cell_height": 66,
    "deepnote_cell_type": "code",
    "tags": []
   },
   "outputs": [],
   "source": [
    "# contains keywords\n",
    "keywords = ['ethic', 'informed consent', 'transparency', 'accountability', 'privacy', 'fairness', 'trust',\n",
    "            'gender', 'ethnicity', 'skin tone', 'skin color']\n",
    "\n",
    "## contains nft and one keyword\n",
    "crawl_tweets_contains_serial('nft', keywords)\n",
    "\n",
    "## contains cryptopunk and one keyword\n",
    "crawl_tweets_contains_serial('cryptopunk', keywords, min_favor=2)"
   ]
  },
  {
   "cell_type": "markdown",
   "metadata": {
    "created_in_deepnote_cell": true,
    "deepnote_cell_type": "markdown",
    "tags": []
   },
   "source": [
    "<a style='text-decoration:none;line-height:16px;display:flex;color:#5B5B62;padding:10px;justify-content:end;' href='https://deepnote.com?utm_source=created-in-deepnote-cell&projectId=46584e2a-add3-4c70-b004-7268e7caedfc' target=\"_blank\">\n",
    "<img alt='Created in deepnote.com' style='display:inline;max-height:16px;margin:0px;margin-right:7.5px;' src='data:image/svg+xml;base64,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' > </img>\n",
    "Created in <span style='font-weight:600;margin-left:4px;'>Deepnote</span></a>"
   ]
  }
 ],
 "metadata": {
  "deepnote": {},
  "deepnote_execution_queue": [],
  "deepnote_notebook_id": "c76ec505-5df4-44a9-ac89-daeaa88006f2",
  "interpreter": {
   "hash": "c1755ba46f2b681f48ef226ecf2d7339b20e415020915864a2e8fc6a4c595296"
  },
  "kernelspec": {
   "display_name": "Python 3.8.12",
   "language": "python",
   "name": "python3"
  },
  "language_info": {
   "codemirror_mode": {
    "name": "ipython",
    "version": 3
   },
   "file_extension": ".py",
   "mimetype": "text/x-python",
   "name": "python",
   "nbconvert_exporter": "python",
   "pygments_lexer": "ipython3",
   "version": "3.8.12"
  },
  "orig_nbformat": 2
 },
 "nbformat": 4,
 "nbformat_minor": 2
}

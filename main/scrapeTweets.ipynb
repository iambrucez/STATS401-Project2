{
 "cells": [
  {
   "cell_type": "code",
   "execution_count": 1,
   "metadata": {},
   "outputs": [],
   "source": [
    "# install snscrape using pip\n",
    "# !pip3 install snscrape"
   ]
  },
  {
   "cell_type": "code",
   "execution_count": 2,
   "metadata": {},
   "outputs": [],
   "source": [
    "# import libraries\n",
    "import snscrape.modules.twitter as sntwitter\n",
    "import snscrape.modules.twitter\n",
    "\n",
    "import pandas as pd"
   ]
  },
  {
   "cell_type": "code",
   "execution_count": 3,
   "metadata": {},
   "outputs": [],
   "source": [
    "def crawl_tweets(query, csv_name):\n",
    "    TWEET_PATH = './ori_data/tweets'\n",
    "    save_path = '{}/{}.csv'.format(TWEET_PATH, csv_name)\n",
    "\n",
    "    print(\"Scraping using query > {} <\".format(query))\n",
    "    print(\"Data will be saved to > {} >\".format(save_path))\n",
    "\n",
    "    # create a list to append twitter data to\n",
    "    tweets_list = []\n",
    "\n",
    "    # use TwitterSearchScraper to scrape data and append tweets to list\n",
    "    for i, tweet in enumerate(sntwitter.TwitterSearchScraper(query).get_items()):\n",
    "        tweets_list.append(\n",
    "            [\n",
    "                tweet.id,\n",
    "                tweet.url,\n",
    "                tweet.date,\n",
    "                tweet.content,\n",
    "                tweet.user.username,\n",
    "                tweet.replyCount,\n",
    "                tweet.retweetCount,\n",
    "                tweet.likeCount,\n",
    "                tweet.retweetedTweet,\n",
    "                tweet.mentionedUsers,\n",
    "            ]\n",
    "        )\n",
    "        if i % 200 == 0:\n",
    "            print(\"====== Scrapped {} =======\".format(i))\n",
    "\n",
    "    print(\"====== Scrapped {} in total =======\".format(len(tweets_list)))\n",
    "\n",
    "    # create a dataframe to view the result\n",
    "    tweets_df = pd.DataFrame(\n",
    "        tweets_list,\n",
    "        columns=[\n",
    "            \"id\",\n",
    "            \"url\",\n",
    "            \"date\",\n",
    "            \"content\",\n",
    "            \"username\",\n",
    "            \"replyCount\",\n",
    "            \"retweetCount\",\n",
    "            \"likeCount\",\n",
    "            \"retweetedTweet\",\n",
    "            \"mentionedUsers\",\n",
    "        ],\n",
    "    )\n",
    "    tweets_df.to_csv(save_path)\n",
    "    return tweets_df\n"
   ]
  },
  {
   "cell_type": "code",
   "execution_count": 4,
   "metadata": {},
   "outputs": [],
   "source": [
    "def crawl_tweets_contains(keyword_1, keyword_2, min_favor=5):\n",
    "    query = '{} {} min_faves:{} lang:en'.format(keyword_1, keyword_2, min_favor)\n",
    "    csv_name = 'contain_{}_{}'.format(keyword_1, keyword_2.replace(' ', '_'))\n",
    "    return crawl_tweets(query, csv_name)\n",
    "\n",
    "\n",
    "def crawl_tweets_contains_serial(keyword_1, keyword_2_list, min_favor=5):\n",
    "    for keyword_2 in keyword_2_list:\n",
    "        crawl_tweets_contains(keyword_1, keyword_2, min_favor)"
   ]
  },
  {
   "cell_type": "code",
   "execution_count": null,
   "metadata": {},
   "outputs": [],
   "source": [
    "# from user\n",
    "crawl_tweets('from:NFTethics', 'from_nftethics')"
   ]
  },
  {
   "cell_type": "code",
   "execution_count": null,
   "metadata": {},
   "outputs": [],
   "source": [
    "# contains keywords\n",
    "keywords = ['ethic', 'informed consent', 'transparency', 'accountability', 'privacy', 'fairness', 'trust',\n",
    "            'gender', 'ethnicity', 'skin tone', 'skin color']\n",
    "\n",
    "## contains nft and one keyword\n",
    "crawl_tweets_contains_serial('nft', keywords)\n",
    "\n",
    "## contains cryptopunk and one keyword\n",
    "crawl_tweets_contains_serial('cryptopunk', keywords, min_favor=2)"
   ]
  }
 ],
 "metadata": {
  "interpreter": {
   "hash": "94069c07f2782e5a25b99bd9e84e9c2dece9e4e591f7d36887139ac6a38f6268"
  },
  "kernelspec": {
   "display_name": "Python 3.9.12 ('datascience')",
   "language": "python",
   "name": "python3"
  },
  "language_info": {
   "codemirror_mode": {
    "name": "ipython",
    "version": 3
   },
   "file_extension": ".py",
   "mimetype": "text/x-python",
   "name": "python",
   "nbconvert_exporter": "python",
   "pygments_lexer": "ipython3",
   "version": "3.9.12"
  },
  "orig_nbformat": 4
 },
 "nbformat": 4,
 "nbformat_minor": 2
}
